{
 "metadata": {
  "name": ""
 },
 "nbformat": 3,
 "nbformat_minor": 0,
 "worksheets": [
  {
   "cells": [
    {
     "cell_type": "code",
     "collapsed": false,
     "input": [
      "import pandas\n",
      "import numpy as np\n",
      "import matplotlib.pyplot as plt\n",
      "from IPython.display import HTML\n",
      "%matplotlib inline"
     ],
     "language": "python",
     "metadata": {},
     "outputs": [],
     "prompt_number": 7
    },
    {
     "cell_type": "code",
     "collapsed": false,
     "input": [
      "from estuarial.browse.market_index import MarketIndex"
     ],
     "language": "python",
     "metadata": {},
     "outputs": [],
     "prompt_number": 8
    },
    {
     "cell_type": "code",
     "collapsed": false,
     "input": [
      "m = MarketIndex()\n",
      "dec2012_sp500 = m['S&P 500', '2012-12-28']"
     ],
     "language": "python",
     "metadata": {},
     "outputs": [],
     "prompt_number": 9
    },
    {
     "cell_type": "code",
     "collapsed": false,
     "input": [
      "HTML(dec2012_sp500.head(5).to_html())\n",
      "\n"
     ],
     "language": "python",
     "metadata": {},
     "outputs": [
      {
       "html": [
        "<table border=\"1\" class=\"dataframe\">\n",
        "  <thead>\n",
        "    <tr style=\"text-align: right;\">\n",
        "      <th></th>\n",
        "      <th>INAME</th>\n",
        "      <th>ITICKER</th>\n",
        "      <th>TICKER</th>\n",
        "      <th>CUSIP</th>\n",
        "      <th>NAME</th>\n",
        "      <th>DATE_</th>\n",
        "      <th>CLOSE_</th>\n",
        "      <th>SHARES</th>\n",
        "      <th>SECCODE</th>\n",
        "      <th>RELATIVE_MARKET_CAP</th>\n",
        "    </tr>\n",
        "  </thead>\n",
        "  <tbody>\n",
        "    <tr>\n",
        "      <th>0</th>\n",
        "      <td> S&amp;P 500 INDEX</td>\n",
        "      <td> SPX_IDX</td>\n",
        "      <td> ADBE</td>\n",
        "      <td> 00724F10</td>\n",
        "      <td>     Adobe Systems Inc</td>\n",
        "      <td>2012-12-28 00:00:00</td>\n",
        "      <td> 36.900002</td>\n",
        "      <td>  495.055</td>\n",
        "      <td> 2099</td>\n",
        "      <td> 18267.530255</td>\n",
        "    </tr>\n",
        "    <tr>\n",
        "      <th>1</th>\n",
        "      <td> S&amp;P 500 INDEX</td>\n",
        "      <td> SPX_IDX</td>\n",
        "      <td>  ADI</td>\n",
        "      <td> 03265410</td>\n",
        "      <td>    Analog Devices Inc</td>\n",
        "      <td>2012-12-28 00:00:00</td>\n",
        "      <td> 41.470001</td>\n",
        "      <td>  301.359</td>\n",
        "      <td> 5689</td>\n",
        "      <td> 12497.358098</td>\n",
        "    </tr>\n",
        "    <tr>\n",
        "      <th>2</th>\n",
        "      <td> S&amp;P 500 INDEX</td>\n",
        "      <td> SPX_IDX</td>\n",
        "      <td>  AGN</td>\n",
        "      <td> 01849010</td>\n",
        "      <td>          Allergan Inc</td>\n",
        "      <td>2012-12-28 00:00:00</td>\n",
        "      <td> 90.129997</td>\n",
        "      <td>  307.535</td>\n",
        "      <td> 3122</td>\n",
        "      <td> 27718.128705</td>\n",
        "    </tr>\n",
        "    <tr>\n",
        "      <th>3</th>\n",
        "      <td> S&amp;P 500 INDEX</td>\n",
        "      <td> SPX_IDX</td>\n",
        "      <td> ALTR</td>\n",
        "      <td> 02144110</td>\n",
        "      <td>           Altera Corp</td>\n",
        "      <td>2012-12-28 00:00:00</td>\n",
        "      <td> 34.009998</td>\n",
        "      <td>  320.573</td>\n",
        "      <td> 3788</td>\n",
        "      <td> 10902.687192</td>\n",
        "    </tr>\n",
        "    <tr>\n",
        "      <th>4</th>\n",
        "      <td> S&amp;P 500 INDEX</td>\n",
        "      <td> SPX_IDX</td>\n",
        "      <td> AMAT</td>\n",
        "      <td> 03822210</td>\n",
        "      <td> Applied Materials Inc</td>\n",
        "      <td>2012-12-28 00:00:00</td>\n",
        "      <td> 11.260000</td>\n",
        "      <td> 1197.660</td>\n",
        "      <td> 6088</td>\n",
        "      <td> 13485.651874</td>\n",
        "    </tr>\n",
        "  </tbody>\n",
        "</table>"
       ],
       "metadata": {},
       "output_type": "pyout",
       "prompt_number": 11,
       "text": [
        "<IPython.core.display.HTML at 0x56a8210>"
       ]
      }
     ],
     "prompt_number": 11
    },
    {
     "cell_type": "code",
     "collapsed": false,
     "input": [
      "dec2012_sp500.RELATIVE_MARKET_CAP.hist(bins=11)\n",
      "\n"
     ],
     "language": "python",
     "metadata": {},
     "outputs": [
      {
       "metadata": {},
       "output_type": "pyout",
       "prompt_number": 12,
       "text": [
        "<matplotlib.axes.AxesSubplot at 0x524a450>"
       ]
      },
      {
       "metadata": {},
       "output_type": "display_data",
       "png": "[encoded data removed]",
       "text": [
        "<matplotlib.figure.Figure at 0x5518290>"
       ]
      }
     ],
     "prompt_number": 12
    },
    {
     "cell_type": "code",
     "collapsed": false,
     "input": [],
     "language": "python",
     "metadata": {},
     "outputs": []
    }
   ],
   "metadata": {}
  }
 ]
}