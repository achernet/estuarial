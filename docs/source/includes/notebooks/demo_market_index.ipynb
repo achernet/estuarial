{
 "metadata": {
  "name": ""
 },
 "nbformat": 3,
 "nbformat_minor": 0,
 "worksheets": [
  {
   "cells": [
    {
     "cell_type": "code",
     "collapsed": false,
     "input": [
      "# Some basic imports for numerics, plotting, and displaying tables.\n",
      "import pandas\n",
      "import numpy as np\n",
      "import matplotlib.pyplot as plt\n",
      "from IPython.display import HTML\n",
      "%matplotlib inline"
     ],
     "language": "python",
     "metadata": {},
     "outputs": [],
     "prompt_number": 8
    },
    {
     "cell_type": "code",
     "collapsed": false,
     "input": [
      "# Import the part of estuarial that provides a look at index constituents.\n",
      "from estuarial.browse.market_index import MarketIndex"
     ],
     "language": "python",
     "metadata": {},
     "outputs": [],
     "prompt_number": 9
    },
    {
     "cell_type": "code",
     "collapsed": false,
     "input": [
      "# Create an instance of the MarketIndex class.\n",
      "m = MarketIndex()\n",
      "\n",
      "# \"Slice\" the data along the dimensions you'd like.\n",
      "# In this case, it's along the S&P 500 index, for the date 2012-12-28.\n",
      "dec2012_sp500 = m['S&P 500', '2012-12-28']"
     ],
     "language": "python",
     "metadata": {},
     "outputs": [],
     "prompt_number": 10
    },
    {
     "cell_type": "code",
     "collapsed": false,
     "input": [
      "# Display a table of the first 5 fetched results.\n",
      "dec2012_sp500.head()\n",
      "\n"
     ],
     "language": "python",
     "metadata": {},
     "outputs": [
      {
       "html": [
        "<div style=\"max-height:1000px;max-width:1500px;overflow:auto;\">\n",
        "<table border=\"1\" class=\"dataframe\">\n",
        "  <thead>\n",
        "    <tr style=\"text-align: right;\">\n",
        "      <th></th>\n",
        "      <th>INAME</th>\n",
        "      <th>ITICKER</th>\n",
        "      <th>TICKER</th>\n",
        "      <th>CUSIP</th>\n",
        "      <th>NAME</th>\n",
        "      <th>DATE_</th>\n",
        "      <th>CLOSE_</th>\n",
        "      <th>SHARES</th>\n",
        "      <th>SECCODE</th>\n",
        "      <th>RELATIVE_MARKET_CAP</th>\n",
        "    </tr>\n",
        "  </thead>\n",
        "  <tbody>\n",
        "    <tr>\n",
        "      <th>0</th>\n",
        "      <td> S&amp;P 500 INDEX</td>\n",
        "      <td> SPX_IDX</td>\n",
        "      <td> ADBE</td>\n",
        "      <td> 00724F10</td>\n",
        "      <td>     Adobe Systems Inc</td>\n",
        "      <td>2012-12-28 00:00:00</td>\n",
        "      <td> 36.900002</td>\n",
        "      <td>  495.055</td>\n",
        "      <td> 2099</td>\n",
        "      <td> 18267.530255</td>\n",
        "    </tr>\n",
        "    <tr>\n",
        "      <th>1</th>\n",
        "      <td> S&amp;P 500 INDEX</td>\n",
        "      <td> SPX_IDX</td>\n",
        "      <td>  ADI</td>\n",
        "      <td> 03265410</td>\n",
        "      <td>    Analog Devices Inc</td>\n",
        "      <td>2012-12-28 00:00:00</td>\n",
        "      <td> 41.470001</td>\n",
        "      <td>  301.359</td>\n",
        "      <td> 5689</td>\n",
        "      <td> 12497.358098</td>\n",
        "    </tr>\n",
        "    <tr>\n",
        "      <th>2</th>\n",
        "      <td> S&amp;P 500 INDEX</td>\n",
        "      <td> SPX_IDX</td>\n",
        "      <td>  AGN</td>\n",
        "      <td> 01849010</td>\n",
        "      <td>          Allergan Inc</td>\n",
        "      <td>2012-12-28 00:00:00</td>\n",
        "      <td> 90.129997</td>\n",
        "      <td>  307.535</td>\n",
        "      <td> 3122</td>\n",
        "      <td> 27718.128705</td>\n",
        "    </tr>\n",
        "    <tr>\n",
        "      <th>3</th>\n",
        "      <td> S&amp;P 500 INDEX</td>\n",
        "      <td> SPX_IDX</td>\n",
        "      <td> ALTR</td>\n",
        "      <td> 02144110</td>\n",
        "      <td>           Altera Corp</td>\n",
        "      <td>2012-12-28 00:00:00</td>\n",
        "      <td> 34.009998</td>\n",
        "      <td>  320.573</td>\n",
        "      <td> 3788</td>\n",
        "      <td> 10902.687192</td>\n",
        "    </tr>\n",
        "    <tr>\n",
        "      <th>4</th>\n",
        "      <td> S&amp;P 500 INDEX</td>\n",
        "      <td> SPX_IDX</td>\n",
        "      <td> AMAT</td>\n",
        "      <td> 03822210</td>\n",
        "      <td> Applied Materials Inc</td>\n",
        "      <td>2012-12-28 00:00:00</td>\n",
        "      <td> 11.260000</td>\n",
        "      <td> 1197.660</td>\n",
        "      <td> 6088</td>\n",
        "      <td> 13485.651874</td>\n",
        "    </tr>\n",
        "  </tbody>\n",
        "</table>\n",
        "</div>"
       ],
       "metadata": {},
       "output_type": "pyout",
       "prompt_number": 11,
       "text": [
        "           INAME  ITICKER TICKER     CUSIP                   NAME  \\\n",
        "0  S&P 500 INDEX  SPX_IDX   ADBE  00724F10      Adobe Systems Inc   \n",
        "1  S&P 500 INDEX  SPX_IDX    ADI  03265410     Analog Devices Inc   \n",
        "2  S&P 500 INDEX  SPX_IDX    AGN  01849010           Allergan Inc   \n",
        "3  S&P 500 INDEX  SPX_IDX   ALTR  02144110            Altera Corp   \n",
        "4  S&P 500 INDEX  SPX_IDX   AMAT  03822210  Applied Materials Inc   \n",
        "\n",
        "                DATE_     CLOSE_    SHARES  SECCODE  RELATIVE_MARKET_CAP  \n",
        "0 2012-12-28 00:00:00  36.900002   495.055     2099         18267.530255  \n",
        "1 2012-12-28 00:00:00  41.470001   301.359     5689         12497.358098  \n",
        "2 2012-12-28 00:00:00  90.129997   307.535     3122         27718.128705  \n",
        "3 2012-12-28 00:00:00  34.009998   320.573     3788         10902.687192  \n",
        "4 2012-12-28 00:00:00  11.260000  1197.660     6088         13485.651874  "
       ]
      }
     ],
     "prompt_number": 11
    },
    {
     "cell_type": "code",
     "collapsed": false,
     "input": [
      "# Display a histogram of the stock-level market cap values.\n",
      "dec2012_sp500.RELATIVE_MARKET_CAP.hist(bins=11)\n",
      "\n"
     ],
     "language": "python",
     "metadata": {},
     "outputs": [
      {
       "metadata": {},
       "output_type": "pyout",
       "prompt_number": 12,
       "text": [
        "<matplotlib.axes.AxesSubplot at 0x524e510>"
       ]
      },
      {
       "metadata": {},
       "output_type": "display_data",
       "png": "[encoded data removed]",
       "text": [
        "<matplotlib.figure.Figure at 0x312bd90>"
       ]
      }
     ],
     "prompt_number": 12
    },
    {
     "cell_type": "code",
     "collapsed": false,
     "input": [
      "# Get data for the S&P Belgium BMI index across December 2012\n",
      "bmi_belgium = m['S&P Belgium BMI', '2012-12-01':'2012-12-31']\n",
      "bmi_belgium.head()"
     ],
     "language": "python",
     "metadata": {},
     "outputs": [
      {
       "html": [
        "<div style=\"max-height:1000px;max-width:1500px;overflow:auto;\">\n",
        "<table border=\"1\" class=\"dataframe\">\n",
        "  <thead>\n",
        "    <tr style=\"text-align: right;\">\n",
        "      <th></th>\n",
        "      <th>DATE_</th>\n",
        "      <th>ITICKER</th>\n",
        "      <th>CLOSE_</th>\n",
        "      <th>AdjClose</th>\n",
        "      <th>MARKETCAP</th>\n",
        "      <th>SECCODE</th>\n",
        "      <th>NAME_</th>\n",
        "    </tr>\n",
        "  </thead>\n",
        "  <tbody>\n",
        "    <tr>\n",
        "      <th>0</th>\n",
        "      <td>2012-12-03 00:00:00</td>\n",
        "      <td> SPCBMICBEUSD</td>\n",
        "      <td> 79.96</td>\n",
        "      <td> 79.96</td>\n",
        "      <td> 612172000</td>\n",
        "      <td> 13601</td>\n",
        "      <td> S&amp;P Belgium BMI (US Dollar)</td>\n",
        "    </tr>\n",
        "    <tr>\n",
        "      <th>1</th>\n",
        "      <td>2012-12-04 00:00:00</td>\n",
        "      <td> SPCBMICBEUSD</td>\n",
        "      <td> 79.55</td>\n",
        "      <td> 79.55</td>\n",
        "      <td> 609732000</td>\n",
        "      <td> 13601</td>\n",
        "      <td> S&amp;P Belgium BMI (US Dollar)</td>\n",
        "    </tr>\n",
        "    <tr>\n",
        "      <th>2</th>\n",
        "      <td>2012-12-05 00:00:00</td>\n",
        "      <td> SPCBMICBEUSD</td>\n",
        "      <td> 79.75</td>\n",
        "      <td> 79.75</td>\n",
        "      <td> 610401000</td>\n",
        "      <td> 13601</td>\n",
        "      <td> S&amp;P Belgium BMI (US Dollar)</td>\n",
        "    </tr>\n",
        "    <tr>\n",
        "      <th>3</th>\n",
        "      <td>2012-12-06 00:00:00</td>\n",
        "      <td> SPCBMICBEUSD</td>\n",
        "      <td> 80.15</td>\n",
        "      <td> 80.15</td>\n",
        "      <td> 609636000</td>\n",
        "      <td> 13601</td>\n",
        "      <td> S&amp;P Belgium BMI (US Dollar)</td>\n",
        "    </tr>\n",
        "    <tr>\n",
        "      <th>4</th>\n",
        "      <td>2012-12-07 00:00:00</td>\n",
        "      <td> SPCBMICBEUSD</td>\n",
        "      <td> 80.50</td>\n",
        "      <td> 80.50</td>\n",
        "      <td> 609540000</td>\n",
        "      <td> 13601</td>\n",
        "      <td> S&amp;P Belgium BMI (US Dollar)</td>\n",
        "    </tr>\n",
        "  </tbody>\n",
        "</table>\n",
        "</div>"
       ],
       "metadata": {},
       "output_type": "pyout",
       "prompt_number": 13,
       "text": [
        "                DATE_       ITICKER  CLOSE_  AdjClose  MARKETCAP  SECCODE  \\\n",
        "0 2012-12-03 00:00:00  SPCBMICBEUSD   79.96     79.96  612172000    13601   \n",
        "1 2012-12-04 00:00:00  SPCBMICBEUSD   79.55     79.55  609732000    13601   \n",
        "2 2012-12-05 00:00:00  SPCBMICBEUSD   79.75     79.75  610401000    13601   \n",
        "3 2012-12-06 00:00:00  SPCBMICBEUSD   80.15     80.15  609636000    13601   \n",
        "4 2012-12-07 00:00:00  SPCBMICBEUSD   80.50     80.50  609540000    13601   \n",
        "\n",
        "                         NAME_  \n",
        "0  S&P Belgium BMI (US Dollar)  \n",
        "1  S&P Belgium BMI (US Dollar)  \n",
        "2  S&P Belgium BMI (US Dollar)  \n",
        "3  S&P Belgium BMI (US Dollar)  \n",
        "4  S&P Belgium BMI (US Dollar)  "
       ]
      }
     ],
     "prompt_number": 13
    },
    {
     "cell_type": "code",
     "collapsed": false,
     "input": [
      "# Get a time-series plot of the total index market cap for each day in December 2012.\n",
      "bmi_belgium.groupby(\"DATE_\").agg({\"MARKETCAP\":np.sum}).plot()"
     ],
     "language": "python",
     "metadata": {},
     "outputs": [
      {
       "metadata": {},
       "output_type": "pyout",
       "prompt_number": 14,
       "text": [
        "<matplotlib.axes.AxesSubplot at 0x5ec86d0>"
       ]
      },
      {
       "metadata": {},
       "output_type": "display_data",
       "png": "[encoded data removed]",
       "text": [
        "<matplotlib.figure.Figure at 0x5c5ec90>"
       ]
      }
     ],
     "prompt_number": 14
    },
    {
     "cell_type": "code",
     "collapsed": false,
     "input": [],
     "language": "python",
     "metadata": {},
     "outputs": []
    }
   ],
   "metadata": {}
  }
 ]
}