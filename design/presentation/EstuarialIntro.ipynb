{
 "metadata": {
  "celltoolbar": "Slideshow",
  "name": "",
  "signature": "sha256:8a82fafb5fcc09ff3b2666ccf5641d82af57f251dc6edd334ea1a18ffb60525e"
 },
 "nbformat": 3,
 "nbformat_minor": 0,
 "worksheets": [
  {
   "cells": [
    {
     "cell_type": "markdown",
     "metadata": {
      "slideshow": {
       "slide_type": "slide"
      }
     },
     "source": [
      "##Why Analytics in Python\n",
      "\n",
      "- PyData Community is well organized, maintained, and growing\n",
      "- Tools span all aspects of computing\n",
      "- Numerical Computing\n",
      " - NumPy (Core Matrix Library-Arary Oriented)\n",
      " - SciPy (Numerical/Statisical Computing)\n",
      " - Scikit Learn (Statistical Computing/Machine Learning)\n",
      " - StatsModls (Statistical Modeling\n",
      " - Pandas (Table Oriented Analysis Package)\n",
      " - ...\n",
      "- Data Visualization:\n",
      "  - Matplotlib\n",
      "  - Bokeh\n",
      "  - Vincent\n",
      "  - ...\n",
      "- Glue Language/Language Interoperability\n",
      " - Custom C extension\n",
      " - Hadoop Plugins\n",
      " - RPy2 (R/Python "
     ]
    },
    {
     "cell_type": "markdown",
     "metadata": {
      "slideshow": {
       "slide_type": "slide"
      }
     },
     "source": [
      "<center>\n",
      "![NumPy Dependency Stack](./NumPy_Deps.png \"NumPy Dependency Stack\")\n",
      "</center>"
     ]
    },
    {
     "cell_type": "markdown",
     "metadata": {
      "slideshow": {
       "slide_type": "slide"
      }
     },
     "source": [
      "Two methods for DB interaction in many languages (including Python):\n",
      "\n",
      "- Raw SQL through a cursor\n",
      "- ORM (Object-relational mapping)\n",
      " - `query = session.query(User).filter(User.name.like('%ed')).order_by(User.id)`\n",
      "\n",
      "ORM builds appropriate SQL and executes.  \n",
      "\n",
      "Currently, no good methods exist to parse and decompose pre-existing queries into atomic units."
     ]
    },
    {
     "cell_type": "markdown",
     "metadata": {
      "slideshow": {
       "slide_type": "slide"
      }
     },
     "source": [
      "## Raw SQL/Cursor\n",
      "Example uses a two table sqlite DB: **data.db**\n",
      "\n",
      " - stocks:\n",
      "  - 4 columns: end, start, id, ticker\n",
      " - stock_hist:\n",
      "  - 6 columns: day, Open, High, Low, Close, Volume, id"
     ]
    },
    {
     "cell_type": "code",
     "collapsed": false,
     "input": [
      "import sqlite3\n",
      "conn = sqlite3.connect('data.db')\n",
      "cursor = conn.cursor()\n",
      "\n",
      "print cursor.execute('SELECT * FROM STOCKS LIMIT 3').fetchall()\n",
      "print cursor.execute('SELECT * FROM STOCK_HIST LIMIT 3').fetchall()"
     ],
     "language": "python",
     "metadata": {},
     "outputs": [
      {
       "output_type": "stream",
       "stream": "stdout",
       "text": [
        "[(u'2013-08-09 00:00:00', u'1999-11-19 00:00:00', 0, u'A'), (u'2013-08-09 00:00:00', u'1998-01-05 00:00:00', 1, u'AA'), (u'2013-08-09 00:00:00', u'1998-01-05 00:00:00', 2, u'AAPL')]\n",
        "[(u'1999-11-19 00:00:00', 39.8329, 39.8885, 36.9293, 37.6251, 11390201.185999999, 0), (u'1999-11-22 00:00:00', 38.3208, 40.0091, 37.1613, 39.9442, 4654716.47499999, 0), (u'1999-11-23 00:00:00', 39.4247, 40.4729, 37.3375, 37.5138, 4268902.728999999, 0)]\n"
       ]
      }
     ],
     "prompt_number": 36
    },
    {
     "cell_type": "code",
     "collapsed": false,
     "input": [
      "import pandas.io.sql as psql\n",
      "psql.read_frame('SELECT * FROM STOCKS LIMIT 3',conn)"
     ],
     "language": "python",
     "metadata": {
      "slideshow": {
       "slide_type": "fragment"
      }
     },
     "outputs": [
      {
       "html": [
        "<div style=\"max-height:1000px;max-width:1500px;overflow:auto;\">\n",
        "<table border=\"1\" class=\"dataframe\">\n",
        "  <thead>\n",
        "    <tr style=\"text-align: right;\">\n",
        "      <th></th>\n",
        "      <th>max_date</th>\n",
        "      <th>min_date</th>\n",
        "      <th>sec_id</th>\n",
        "      <th>ticker</th>\n",
        "    </tr>\n",
        "  </thead>\n",
        "  <tbody>\n",
        "    <tr>\n",
        "      <th>0</th>\n",
        "      <td> 2013-08-09 00:00:00</td>\n",
        "      <td> 1999-11-19 00:00:00</td>\n",
        "      <td> 0</td>\n",
        "      <td>    A</td>\n",
        "    </tr>\n",
        "    <tr>\n",
        "      <th>1</th>\n",
        "      <td> 2013-08-09 00:00:00</td>\n",
        "      <td> 1998-01-05 00:00:00</td>\n",
        "      <td> 1</td>\n",
        "      <td>   AA</td>\n",
        "    </tr>\n",
        "    <tr>\n",
        "      <th>2</th>\n",
        "      <td> 2013-08-09 00:00:00</td>\n",
        "      <td> 1998-01-05 00:00:00</td>\n",
        "      <td> 2</td>\n",
        "      <td> AAPL</td>\n",
        "    </tr>\n",
        "  </tbody>\n",
        "</table>\n",
        "</div>"
       ],
       "metadata": {},
       "output_type": "pyout",
       "prompt_number": 2,
       "text": [
        "              max_date             min_date  sec_id ticker\n",
        "0  2013-08-09 00:00:00  1999-11-19 00:00:00       0      A\n",
        "1  2013-08-09 00:00:00  1998-01-05 00:00:00       1     AA\n",
        "2  2013-08-09 00:00:00  1998-01-05 00:00:00       2   AAPL"
       ]
      }
     ],
     "prompt_number": 2
    },
    {
     "cell_type": "markdown",
     "metadata": {
      "slideshow": {
       "slide_type": "slide"
      }
     },
     "source": [
      "##A possible solution: \n",
      "\n",
      "- Wrap raw queries in functions\n",
      " - many devs take this approach"
     ]
    },
    {
     "cell_type": "code",
     "collapsed": false,
     "input": [
      "get_props_foreach_ticker(entities, metrics,dt_list=None):\n",
      "\n",
      "  sql = '''\n",
      "         select item, m.seccode, d.year_, d.seq, d.date_, d.value_, f.date_ from wsndata d\n",
      "         join secmapx m on m.ventype = 10 and m.vencode = d.code and rank = 1\n",
      "         left outer join wsfye f on f.code = d.code and f.year_ = d.year_\n",
      "            where m.seccode in (%s) and item in (%s) and freq = ? %s\n",
      "         '''\n",
      "      if not dt_list:\n",
      "          dts = ''\n",
      "          dt_list = []\n",
      "      else:\n",
      "          dts = ' and ('+' '.join(' (f.date_ >= ? and f.date_ <= ?) OR' for dt in dt_list)\n",
      "          dts = dts[:-2]+')'\n",
      "\n",
      "\n",
      "      secs = ', '.join('?' for sec in seccodes)\n",
      "      mets = ', '.join('?' for m in metrics)\n",
      "      sql = sql % (secs,mets,dts)\n",
      "\n",
      "      log.debug(sql)\n",
      "      \n",
      "      params = seccodes+metrics+[FREQ]+dt_list\n",
      "      cursor.execute(sql,params)\n",
      "      data = cursor.fetchall()\n"
     ],
     "language": "python",
     "metadata": {
      "slideshow": {
       "slide_type": "fragment"
      }
     },
     "outputs": []
    },
    {
     "cell_type": "markdown",
     "metadata": {
      "slideshow": {
       "slide_type": "slide"
      }
     },
     "source": [
      "### An Unwieldy Function\n",
      "\n",
      "Problems:\n",
      "- Type checking \n",
      "- String munging often leads to bugs\n",
      "- SQL Verification\n",
      "- SQL Versioning\n",
      "- ..."
     ]
    },
    {
     "cell_type": "markdown",
     "metadata": {
      "slideshow": {
       "slide_type": "slide"
      }
     },
     "source": [
      "##Estuarial\n",
      "\n",
      "- Alleviate pain of data fetching\n",
      "- SQLAlchemy Backend (DB agnostic SQL generation)\n",
      "- Maintainable and versioned catalogoue\n",
      "- Advanced caching\n",
      "- Advanced computing (on roadmap)\n",
      "- Hooks to other numerical computing libraries\n",
      "- Returns **Pandas DataFrame**\n",
      " - Industry standard object for manipulating tabular data in Python"
     ]
    },
    {
     "cell_type": "markdown",
     "metadata": {
      "slideshow": {
       "slide_type": "slide"
      }
     },
     "source": [
      "## The Catalogue\n",
      "\n",
      "- Catalogue can be organized by: \n",
      " - timeseries\n",
      " - database\n",
      " - theme \n",
      " - Can change and grow as customers and user bases changes. \n",
      "\n",
      "- Queries: *SQL with Spice* \n",
      " - YAML Defined SQL\n",
      " - Markup around query\n",
      " - Auto Generate Python functionality (more on this later)"
     ]
    },
    {
     "cell_type": "markdown",
     "metadata": {
      "slideshow": {
       "slide_type": "slide"
      }
     },
     "source": [
      "```\n",
      "SQL:\n",
      "    worldscope_metrics_date_select:\n",
      "        conditionals:\n",
      "                - seccode\n",
      "                - item\n",
      "                - freq\n",
      "                - date\n",
      "\n",
      "        query: >\n",
      "                SELECT item\n",
      "                ,   m.seccode\n",
      "                ,   d.year_\n",
      "                ,   d.seq\n",
      "                ,   d.value_\n",
      "                ,   d.date_ as ddate\n",
      "                ,   f.date_ as date\n",
      "                ,   freq\n",
      "                FROM    wsndata d\n",
      "                join    secmapx m\n",
      "                    on m.ventype = 10\n",
      "                    and m.vencode = d.code\n",
      "                    and rank = 1\n",
      "                left outer join wsfye f\n",
      "                    on f.code = d.code\n",
      "                    and f.year_ = d.year_\n",
      "```"
     ]
    },
    {
     "cell_type": "markdown",
     "metadata": {
      "slideshow": {
       "slide_type": "fragment"
      }
     },
     "source": [
      "Same query from unwieldy funcationality.  Estuarial parses file and connects sql to function with *conditionals* as arguments"
     ]
    },
    {
     "cell_type": "code",
     "collapsed": false,
     "input": [
      "import datetime as dt\n",
      "from estuarial.query.trqad import TRQAD\n",
      "\n",
      "qad = TRQAD()\n",
      "\n",
      "#secs\n",
      "IBM = 36799\n",
      "AAPL = 6027\n",
      "MSFT = 46692\n",
      "\n",
      "#metrics\n",
      "NI = 1751   # Net Income\n",
      "CASH = 2001 # Cash\n",
      "TL = 3351   # Total Liabilities\n",
      "\n",
      "universe = [IBM,AAPL,MSFT]\n",
      "dt_list = [dt.datetime(2013,12,31), dt.datetime(2014,1,1)]\n",
      "metrics_list = [NI, CASH, TL]\n",
      "\n",
      "df = qad.fundamentals(universe,metrics_list,dt_list,DB=\"WORLDSCOPE\")\n",
      "df.tail()"
     ],
     "language": "python",
     "metadata": {
      "slideshow": {
       "slide_type": "slide"
      }
     },
     "outputs": [
      {
       "html": [
        "<div style=\"max-height:1000px;max-width:1500px;overflow:auto;\">\n",
        "<table border=\"1\" class=\"dataframe\">\n",
        "  <thead>\n",
        "    <tr style=\"text-align: right;\">\n",
        "      <th></th>\n",
        "      <th>item</th>\n",
        "      <th>seccode</th>\n",
        "      <th>year_</th>\n",
        "      <th>seq</th>\n",
        "      <th>value_</th>\n",
        "      <th>ddate</th>\n",
        "      <th>date</th>\n",
        "      <th>freq</th>\n",
        "    </tr>\n",
        "  </thead>\n",
        "  <tbody>\n",
        "    <tr>\n",
        "      <th>18</th>\n",
        "      <td> 2001</td>\n",
        "      <td> 36799</td>\n",
        "      <td> 2013</td>\n",
        "      <td> 3</td>\n",
        "      <td> 10628000000</td>\n",
        "      <td>2013-09-30 00:00:00</td>\n",
        "      <td>2013-12-31 00:00:00</td>\n",
        "      <td> Q</td>\n",
        "    </tr>\n",
        "    <tr>\n",
        "      <th>19</th>\n",
        "      <td> 2001</td>\n",
        "      <td> 36799</td>\n",
        "      <td> 2013</td>\n",
        "      <td> 4</td>\n",
        "      <td> 11383000000</td>\n",
        "      <td>2013-12-31 00:00:00</td>\n",
        "      <td>2013-12-31 00:00:00</td>\n",
        "      <td> Q</td>\n",
        "    </tr>\n",
        "    <tr>\n",
        "      <th>20</th>\n",
        "      <td> 3351</td>\n",
        "      <td> 36799</td>\n",
        "      <td> 2013</td>\n",
        "      <td> 1</td>\n",
        "      <td> 93817000000</td>\n",
        "      <td>2013-03-31 00:00:00</td>\n",
        "      <td>2013-12-31 00:00:00</td>\n",
        "      <td> Q</td>\n",
        "    </tr>\n",
        "    <tr>\n",
        "      <th>21</th>\n",
        "      <td> 3351</td>\n",
        "      <td> 36799</td>\n",
        "      <td> 2013</td>\n",
        "      <td> 2</td>\n",
        "      <td> 93120000000</td>\n",
        "      <td>2013-06-30 00:00:00</td>\n",
        "      <td>2013-12-31 00:00:00</td>\n",
        "      <td> Q</td>\n",
        "    </tr>\n",
        "    <tr>\n",
        "      <th>22</th>\n",
        "      <td> 3351</td>\n",
        "      <td> 36799</td>\n",
        "      <td> 2013</td>\n",
        "      <td> 3</td>\n",
        "      <td> 94155000000</td>\n",
        "      <td>2013-09-30 00:00:00</td>\n",
        "      <td>2013-12-31 00:00:00</td>\n",
        "      <td> Q</td>\n",
        "    </tr>\n",
        "  </tbody>\n",
        "</table>\n",
        "</div>"
       ],
       "metadata": {},
       "output_type": "pyout",
       "prompt_number": 10,
       "text": [
        "    item  seccode  year_  seq       value_               ddate  \\\n",
        "18  2001    36799   2013    3  10628000000 2013-09-30 00:00:00   \n",
        "19  2001    36799   2013    4  11383000000 2013-12-31 00:00:00   \n",
        "20  3351    36799   2013    1  93817000000 2013-03-31 00:00:00   \n",
        "21  3351    36799   2013    2  93120000000 2013-06-30 00:00:00   \n",
        "22  3351    36799   2013    3  94155000000 2013-09-30 00:00:00   \n",
        "\n",
        "                  date freq  \n",
        "18 2013-12-31 00:00:00    Q  \n",
        "19 2013-12-31 00:00:00    Q  \n",
        "20 2013-12-31 00:00:00    Q  \n",
        "21 2013-12-31 00:00:00    Q  \n",
        "22 2013-12-31 00:00:00    Q  "
       ]
      }
     ],
     "prompt_number": 10
    },
    {
     "cell_type": "markdown",
     "metadata": {
      "slideshow": {
       "slide_type": "slide"
      }
     },
     "source": [
      "##Estuarial Coverage\n",
      "\n",
      "- Fundamentals\n",
      " - RKD\n",
      " - Worldscope\n",
      "- End of Day\n",
      " - DataStream\n",
      "- Market Universes \n",
      " - Dow Jones\n",
      " - Full Coverage S&P\n",
      " - Full Coverage Russell\n",
      "- MetaData\n",
      " - GIC \n",
      "- EntityManagement\n",
      " - RKD-> <- SECCODE\n",
      " - more coming"
     ]
    },
    {
     "cell_type": "markdown",
     "metadata": {
      "slideshow": {
       "slide_type": "slide"
      }
     },
     "source": [
      "##Exploring Entities"
     ]
    },
    {
     "cell_type": "code",
     "collapsed": false,
     "input": [
      "from estuarial.drilldown.metadata import TRMETA\n",
      "meta = TRMETA()\n",
      "df = meta.find_entity_name('BMW')\n",
      "print df.columns.values\n",
      "df[['SecCode','Id','Name','Vendors1']].head()"
     ],
     "language": "python",
     "metadata": {
      "slideshow": {
       "slide_type": "fragment"
      }
     },
     "outputs": [
      {
       "output_type": "stream",
       "stream": "stdout",
       "text": [
        "['SecCode' 'Id' 'Type_' 'IdBase' 'IdSeq' 'Cusip' 'PrevCusip' 'Sedol'\n",
        " 'PrevSedol' 'Sedol2' 'PrevSedol2' 'Isin' 'Name' 'Country' 'Vendors1'\n",
        " 'Vendors2' 'Vendors3' 'Vendors4']\n"
       ]
      },
      {
       "html": [
        "<div style=\"max-height:1000px;max-width:1500px;overflow:auto;\">\n",
        "<table border=\"1\" class=\"dataframe\">\n",
        "  <thead>\n",
        "    <tr style=\"text-align: right;\">\n",
        "      <th></th>\n",
        "      <th>SecCode</th>\n",
        "      <th>Id</th>\n",
        "      <th>Name</th>\n",
        "      <th>Vendors1</th>\n",
        "    </tr>\n",
        "  </thead>\n",
        "  <tbody>\n",
        "    <tr>\n",
        "      <th>0</th>\n",
        "      <td> 10006326</td>\n",
        "      <td> 05563IAA00_FI</td>\n",
        "      <td> BMW US CAPITAL CORP            EURO MTN FLT 05</td>\n",
        "      <td>     2097152</td>\n",
        "    </tr>\n",
        "    <tr>\n",
        "      <th>1</th>\n",
        "      <td> 10006348</td>\n",
        "      <td> 05563X9A00_FI</td>\n",
        "      <td>       BMW US CAP CORP                NT FLT 03</td>\n",
        "      <td> 68721573888</td>\n",
        "    </tr>\n",
        "    <tr>\n",
        "      <th>2</th>\n",
        "      <td> 10006349</td>\n",
        "      <td> 05564IAA00_FI</td>\n",
        "      <td>      BMW BK NO AMER SALT LAKE CTY   CD ZERO 06</td>\n",
        "      <td> 68721573888</td>\n",
        "    </tr>\n",
        "    <tr>\n",
        "      <th>3</th>\n",
        "      <td> 10006350</td>\n",
        "      <td> 05564QAC00_FI</td>\n",
        "      <td>      BMW BK NO AMER SALT LAKE CTY   CD 6.65%01</td>\n",
        "      <td>     2097152</td>\n",
        "    </tr>\n",
        "    <tr>\n",
        "      <th>4</th>\n",
        "      <td> 10006351</td>\n",
        "      <td> 05564QAD00_FI</td>\n",
        "      <td>      BMW BK NO AMER SALT LAKE CTY   CD 6.70%02</td>\n",
        "      <td>     2097152</td>\n",
        "    </tr>\n",
        "  </tbody>\n",
        "</table>\n",
        "</div>"
       ],
       "metadata": {},
       "output_type": "pyout",
       "prompt_number": 35,
       "text": [
        "    SecCode             Id                                            Name  \\\n",
        "0  10006326  05563IAA00_FI  BMW US CAPITAL CORP            EURO MTN FLT 05   \n",
        "1  10006348  05563X9A00_FI        BMW US CAP CORP                NT FLT 03   \n",
        "2  10006349  05564IAA00_FI       BMW BK NO AMER SALT LAKE CTY   CD ZERO 06   \n",
        "3  10006350  05564QAC00_FI       BMW BK NO AMER SALT LAKE CTY   CD 6.65%01   \n",
        "4  10006351  05564QAD00_FI       BMW BK NO AMER SALT LAKE CTY   CD 6.70%02   \n",
        "\n",
        "      Vendors1  \n",
        "0      2097152  \n",
        "1  68721573888  \n",
        "2  68721573888  \n",
        "3      2097152  \n",
        "4      2097152  "
       ]
      }
     ],
     "prompt_number": 35
    },
    {
     "cell_type": "markdown",
     "metadata": {
      "slideshow": {
       "slide_type": "slide"
      }
     },
     "source": [
      "##Leverage IPython/Python Magic\n",
      "\n",
      "- Tabbed Auto-Complete \n",
      "- Inline printing\n",
      "- Built-in help"
     ]
    },
    {
     "cell_type": "code",
     "collapsed": false,
     "input": [
      "from estuarial.browse.metrics_manager import MetricsManager\n",
      "metrics = MetricsManager()\n",
      "##finds all worldscope metrics matching *DEBT*\n",
      "##ipython searching: metrics.ws.*DEBT*? \n",
      "metrics.ws.find_metrics('DEBT').head() "
     ],
     "language": "python",
     "metadata": {
      "slideshow": {
       "slide_type": "fragment"
      }
     },
     "outputs": [
      {
       "html": [
        "<div style=\"max-height:1000px;max-width:1500px;overflow:auto;\">\n",
        "<table border=\"1\" class=\"dataframe\">\n",
        "  <thead>\n",
        "    <tr style=\"text-align: right;\">\n",
        "      <th></th>\n",
        "      <th>Number</th>\n",
        "      <th>Name</th>\n",
        "    </tr>\n",
        "  </thead>\n",
        "  <tbody>\n",
        "    <tr>\n",
        "      <th>197</th>\n",
        "      <td> 18282</td>\n",
        "      <td>                  CONVERTIBLE DEBT</td>\n",
        "    </tr>\n",
        "    <tr>\n",
        "      <th>215</th>\n",
        "      <td> 18232</td>\n",
        "      <td> CURRENT PORTION OF LONG TERM DEBT</td>\n",
        "    </tr>\n",
        "    <tr>\n",
        "      <th>817</th>\n",
        "      <td>  1251</td>\n",
        "      <td>          INTEREST EXPENSE ON DEBT</td>\n",
        "    </tr>\n",
        "    <tr>\n",
        "      <th>929</th>\n",
        "      <td>  3251</td>\n",
        "      <td>                    LONG TERM DEBT</td>\n",
        "    </tr>\n",
        "    <tr>\n",
        "      <th>930</th>\n",
        "      <td>  8226</td>\n",
        "      <td>    LONG TERM DEBT % COMMON EQUITY</td>\n",
        "    </tr>\n",
        "  </tbody>\n",
        "</table>\n",
        "</div>"
       ],
       "metadata": {},
       "output_type": "pyout",
       "prompt_number": 20,
       "text": [
        "     Number                               Name\n",
        "197   18282                   CONVERTIBLE DEBT\n",
        "215   18232  CURRENT PORTION OF LONG TERM DEBT\n",
        "817    1251           INTEREST EXPENSE ON DEBT\n",
        "929    3251                     LONG TERM DEBT\n",
        "930    8226     LONG TERM DEBT % COMMON EQUITY"
       ]
      }
     ],
     "prompt_number": 20
    },
    {
     "cell_type": "markdown",
     "metadata": {
      "slideshow": {
       "slide_type": "slide"
      }
     },
     "source": [
      "#Estuarial Advanced"
     ]
    },
    {
     "cell_type": "markdown",
     "metadata": {
      "slideshow": {
       "slide_type": "slide"
      }
     },
     "source": [
      "## Caching\n",
      "\n",
      "Extremely important! Fetching data is inefficient for both compute time and operator time.\n"
     ]
    },
    {
     "cell_type": "markdown",
     "metadata": {
      "slideshow": {
       "slide_type": "fragment"
      }
     },
     "source": [
      "- Queries cached in HDF5\n",
      " - Query and Date is cached along with data\n",
      " - Extending to entities on roadmap\n",
      " - move-able cache"
     ]
    },
    {
     "cell_type": "markdown",
     "metadata": {
      "slideshow": {
       "slide_type": "slide"
      }
     },
     "source": [
      "##Example Cache"
     ]
    },
    {
     "cell_type": "code",
     "collapsed": false,
     "input": [
      "import pandas as pd\n",
      "df = pd.HDFStore('cache_worldscope_fundamentals.yaml.hdf5')\n",
      "df['/cache_spec']"
     ],
     "language": "python",
     "metadata": {
      "slideshow": {
       "slide_type": "fragment"
      }
     },
     "outputs": [
      {
       "html": [
        "<div style=\"max-height:1000px;max-width:1500px;overflow:auto;\">\n",
        "<table border=\"1\" class=\"dataframe\">\n",
        "  <thead>\n",
        "    <tr style=\"text-align: right;\">\n",
        "      <th></th>\n",
        "      <th>_end_row</th>\n",
        "      <th>_start_row</th>\n",
        "      <th>end_date</th>\n",
        "      <th>hashval</th>\n",
        "      <th>start_date</th>\n",
        "    </tr>\n",
        "  </thead>\n",
        "  <tbody>\n",
        "    <tr>\n",
        "      <th>0</th>\n",
        "      <td>  12</td>\n",
        "      <td>  0</td>\n",
        "      <td>2014-01-01 00:00:00</td>\n",
        "      <td> 1ed6b1157c2cfd7cb603bb700eb0adb4</td>\n",
        "      <td>2013-12-31 00:00:00</td>\n",
        "    </tr>\n",
        "    <tr>\n",
        "      <th>0</th>\n",
        "      <td> 204</td>\n",
        "      <td> 12</td>\n",
        "      <td>2013-12-31 00:00:00</td>\n",
        "      <td> 1ed6b1157c2cfd7cb603bb700eb0adb4</td>\n",
        "      <td>2008-12-31 00:00:00</td>\n",
        "    </tr>\n",
        "  </tbody>\n",
        "</table>\n",
        "</div>"
       ],
       "metadata": {},
       "output_type": "pyout",
       "prompt_number": 18,
       "text": [
        "   _end_row  _start_row            end_date                           hashval  \\\n",
        "0        12           0 2014-01-01 00:00:00  1ed6b1157c2cfd7cb603bb700eb0adb4   \n",
        "0       204          12 2013-12-31 00:00:00  1ed6b1157c2cfd7cb603bb700eb0adb4   \n",
        "\n",
        "           start_date  \n",
        "0 2013-12-31 00:00:00  \n",
        "0 2008-12-31 00:00:00  "
       ]
      }
     ],
     "prompt_number": 18
    },
    {
     "cell_type": "markdown",
     "metadata": {
      "slideshow": {
       "slide_type": "slide"
      }
     },
     "source": [
      "## Extending Functionality\n",
      "\n",
      "Extending the catalogue is synonymous with extending functionality.\n",
      "\n",
      "- Write single YAML and Python code\n",
      "- Write composite YAML file"
     ]
    },
    {
     "cell_type": "markdown",
     "metadata": {
      "slideshow": {
       "slide_type": "fragment"
      }
     },
     "source": [
      "##Single YAML Wrapped w/Python\n",
      "\n",
      "```python\n",
      "    start, stop = parsedate(dt_list)\n",
      "    df_file = db_dict[DB]\n",
      "    url = posixpath.join('/FUNDAMENTALS',DB,df_file)\n",
      "    arr = self.aclient[url]\n",
      "\n",
      "    data = arr.select(\n",
      "        and_(arr.seccode.in_(universe),\n",
      "             arr.item.in_(metrics),\n",
      "             arr.freq==freq),\n",
      "        date_1=start,\n",
      "        date_2=stop)\n",
      "```\n",
      "\n",
      "- messy guts of Estuarial\n",
      "- connects conditionals in YAML to Python"
     ]
    },
    {
     "cell_type": "markdown",
     "metadata": {
      "slideshow": {
       "slide_type": "slide"
      }
     },
     "source": [
      "##Composite YAML\n",
      "\n",
      "```yaml\n",
      "AccountingData:\n",
      "    inventory:\n",
      "        doc: This is a query for inventory.\n",
      "        conditionals:\n",
      "            account_id: A customer's account number.\n",
      "            shipping_date: The shipping date.\n",
      "        query: >\n",
      "            SELECT\n",
      "                  a.account_id as account_id\n",
      "                , b.shipping_id as shipping_id\n",
      "                , a.customer_name\n",
      "                , b.total_sales\n",
      "            FROM account_table a\n",
      "            JOIN shipping_table b\n",
      "                ON a.account_id = b.shipping_id\n",
      "\n",
      "    payroll:\n",
      "        doc: This is a payroll query.\n",
      "        conditionals:\n",
      "            branch_id: A branch id number\n",
      "            city: A city name\n",
      "        query: >\n",
      "            SELECT\n",
      "                  a.branch_id\n",
      "                , b.city\n",
      "                , a.total_payroll as branch_payroll\n",
      "            FROM branch_table a\n",
      "            JOIN branch_location_table b\n",
      "                ON a.branch_id = b.branch_id\n",
      "```\n"
     ]
    },
    {
     "cell_type": "markdown",
     "metadata": {
      "slideshow": {
       "slide_type": "slide"
      }
     },
     "source": [
      "##Composite YAML (cont...)\n",
      "\n",
      "- Hierarchical Structure \n",
      " - Top level defines Object Name\n",
      " - Secondary level defines function names\n",
      " - Easy to write and read\n",
      "\n",
      "\n",
      "- **AutoMagically** builds Python\n",
      " - Used to build MarketIndex (created on import)\n",
      " - can also be used to build objects on the fly\n",
      "\n"
     ]
    },
    {
     "cell_type": "code",
     "collapsed": false,
     "input": [
      "from estuarial.data.query_handler import QueryHandler\n",
      "qh = QueryHandler()\n",
      "AccountingData = qh.create_type_from_yaml('test/test_example.yaml')\n",
      "ad = AccountingData()\n",
      "print ad.inventory.__doc__"
     ],
     "language": "python",
     "metadata": {
      "slideshow": {
       "slide_type": "fragment"
      }
     },
     "outputs": [
      {
       "output_type": "stream",
       "stream": "stdout",
       "text": [
        "This is a query for inventory.\n",
        "\n",
        "Params\n",
        "------\n",
        "shipping_date: The shipping date.\n",
        "account_id: A customer's account number.\n",
        "\n"
       ]
      }
     ],
     "prompt_number": 17
    },
    {
     "cell_type": "markdown",
     "metadata": {
      "slideshow": {
       "slide_type": "slide"
      }
     },
     "source": [
      "## Composite YAML Functions\n",
      "\n",
      "- arguments of `inventory` are conditionals defined in YAML spec. \n",
      "- special keyword arguments are used as conditional names \n",
      "\n",
      "```python\n",
      "ad.inventory(accounting_id=10, shipping_date='2012-12-31')\n",
      "ad.inventory(account_id_not_equal=10)\n",
      "ad.inventory(account_id_between=(10, 20))\n",
      "ad.inventory(account_id_not_in=(10, 11, 12))\n",
      "ad.payroll(city_like=\" '%York%' \")\n",
      "...\n",
      "```"
     ]
    },
    {
     "cell_type": "markdown",
     "metadata": {
      "slideshow": {
       "slide_type": "slide"
      }
     },
     "source": [
      "## Future Work\n",
      "\n",
      "- Distributed Computation\n",
      "- More SQL Queries and more Coverage\n",
      "- Integrated Plotting\n",
      "- Entity Management\n"
     ]
    }
   ],
   "metadata": {}
  }
 ]
}